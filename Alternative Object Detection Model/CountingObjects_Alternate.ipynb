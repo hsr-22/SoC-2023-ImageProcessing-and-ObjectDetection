{
  "nbformat": 4,
  "nbformat_minor": 0,
  "metadata": {
    "colab": {
      "provenance": []
    },
    "kernelspec": {
      "name": "python3",
      "display_name": "Python 3"
    },
    "language_info": {
      "name": "python"
    }
  },
  "cells": [
    {
      "cell_type": "markdown",
      "source": [
        "## Importing the Libraries"
      ],
      "metadata": {
        "id": "PL8ysP1YLigr"
      }
    },
    {
      "cell_type": "code",
      "execution_count": 101,
      "metadata": {
        "id": "TNZIuWdf50i7"
      },
      "outputs": [],
      "source": [
        "import cv2\n",
        "import numpy as np\n",
        "import matplotlib.pyplot as plt"
      ]
    },
    {
      "cell_type": "markdown",
      "source": [
        "## Load and Display Image"
      ],
      "metadata": {
        "id": "d-KcfMWbLquW"
      }
    },
    {
      "cell_type": "code",
      "source": [
        "image = cv2.imread('eggs6.jpg')\n",
        "gray = cv2.cvtColor(image, cv2.COLOR_BGR2GRAY)\n",
        "plt.imshow(gray, cmap='gray')"
      ],
      "metadata": {
        "id": "PCcVDaIE5_SH"
      },
      "execution_count": null,
      "outputs": []
    },
    {
      "cell_type": "markdown",
      "source": [
        "## Apply Gaussian Blur"
      ],
      "metadata": {
        "id": "eHCYdJwWL6nY"
      }
    },
    {
      "cell_type": "code",
      "source": [
        "blur = cv2.GaussianBlur(gray, (13, 13), 0)\n",
        "plt.imshow(blur, cmap='gray')"
      ],
      "metadata": {
        "id": "Kd-KqEj86CNK"
      },
      "execution_count": null,
      "outputs": []
    },
    {
      "cell_type": "markdown",
      "source": [
        "## Apply Canny Edge Detection"
      ],
      "metadata": {
        "id": "gWs1nBZGMaFE"
      }
    },
    {
      "cell_type": "code",
      "source": [
        "canny = cv2.Canny(blur, 30, 150, 3)\n",
        "plt.imshow(canny, cmap='gray')"
      ],
      "metadata": {
        "id": "S5m7_DtB6Fie"
      },
      "execution_count": null,
      "outputs": []
    },
    {
      "cell_type": "markdown",
      "source": [
        "## Dilate the Edges"
      ],
      "metadata": {
        "id": "DVTrqipnMf85"
      }
    },
    {
      "cell_type": "code",
      "source": [
        "dilated = cv2.dilate(canny, (1, 1), iterations=0)\n",
        "plt.imshow(dilated, cmap='gray')"
      ],
      "metadata": {
        "id": "Pyu_lW1_6Gz3"
      },
      "execution_count": null,
      "outputs": []
    },
    {
      "cell_type": "markdown",
      "source": [
        "## Find and Draw Contours on the Image"
      ],
      "metadata": {
        "id": "isB0lACLMt7Y"
      }
    },
    {
      "cell_type": "code",
      "source": [
        "cnt, hierarchy = cv2.findContours(dilated.copy(), cv2.RETR_EXTERNAL, cv2.CHAIN_APPROX_NONE)\n",
        "rgb = cv2.cvtColor(image, cv2.COLOR_BGR2RGB)\n",
        "cv2.drawContours(rgb, cnt, -1, (0, 255, 0), 2)\n",
        "\n",
        "plt.imshow(rgb)"
      ],
      "metadata": {
        "id": "-ZPnU0jl6RJq"
      },
      "execution_count": null,
      "outputs": []
    },
    {
      "cell_type": "markdown",
      "source": [
        "## Count the number of Objects/Contours"
      ],
      "metadata": {
        "id": "vlyZ9WBkM4w5"
      }
    },
    {
      "cell_type": "code",
      "source": [
        "print(\"objects in the image : \", len(cnt))"
      ],
      "metadata": {
        "id": "BioeTGbI6Xb_"
      },
      "execution_count": null,
      "outputs": []
    }
  ]
}