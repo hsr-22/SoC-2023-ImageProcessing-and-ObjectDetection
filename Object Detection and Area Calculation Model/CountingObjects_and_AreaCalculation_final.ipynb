{
  "nbformat": 4,
  "nbformat_minor": 0,
  "metadata": {
    "colab": {
      "provenance": []
    },
    "kernelspec": {
      "name": "python3",
      "display_name": "Python 3"
    },
    "language_info": {
      "name": "python"
    }
  },
  "cells": [
    {
      "cell_type": "markdown",
      "source": [
        "# Counting Number of Object(s)"
      ],
      "metadata": {
        "id": "GSmlrpfC0H5N"
      }
    },
    {
      "cell_type": "markdown",
      "source": [
        "## Importing Libraries"
      ],
      "metadata": {
        "id": "MrTx0mjy0RXK"
      }
    },
    {
      "cell_type": "code",
      "source": [
        "import cv2\n",
        "import matplotlib.pyplot as plt\n",
        "!pip install cvlib\n",
        "import cvlib as cvl\n",
        "from numpy.lib.polynomial import poly\n",
        "from cvlib.object_detection import draw_bbox"
      ],
      "metadata": {
        "colab": {
          "base_uri": "https://localhost:8080/"
        },
        "id": "l7a6EGQH4_FX",
        "outputId": "835dacea-9872-425d-fe6c-9c5319563bc1"
      },
      "execution_count": 1,
      "outputs": [
        {
          "output_type": "stream",
          "name": "stdout",
          "text": [
            "Looking in indexes: https://pypi.org/simple, https://us-python.pkg.dev/colab-wheels/public/simple/\n",
            "Collecting cvlib\n",
            "  Downloading cvlib-0.2.7.tar.gz (13.1 MB)\n",
            "\u001b[2K     \u001b[90m━━━━━━━━━━━━━━━━━━━━━━━━━━━━━━━━━━━━━━━━\u001b[0m \u001b[32m13.1/13.1 MB\u001b[0m \u001b[31m84.9 MB/s\u001b[0m eta \u001b[36m0:00:00\u001b[0m\n",
            "\u001b[?25h  Preparing metadata (setup.py) ... \u001b[?25l\u001b[?25hdone\n",
            "Requirement already satisfied: numpy in /usr/local/lib/python3.10/dist-packages (from cvlib) (1.22.4)\n",
            "Collecting progressbar (from cvlib)\n",
            "  Downloading progressbar-2.5.tar.gz (10 kB)\n",
            "  Preparing metadata (setup.py) ... \u001b[?25l\u001b[?25hdone\n",
            "Requirement already satisfied: requests in /usr/local/lib/python3.10/dist-packages (from cvlib) (2.27.1)\n",
            "Requirement already satisfied: pillow in /usr/local/lib/python3.10/dist-packages (from cvlib) (8.4.0)\n",
            "Requirement already satisfied: imageio in /usr/local/lib/python3.10/dist-packages (from cvlib) (2.25.1)\n",
            "Requirement already satisfied: imutils in /usr/local/lib/python3.10/dist-packages (from cvlib) (0.5.4)\n",
            "Requirement already satisfied: urllib3<1.27,>=1.21.1 in /usr/local/lib/python3.10/dist-packages (from requests->cvlib) (1.26.15)\n",
            "Requirement already satisfied: certifi>=2017.4.17 in /usr/local/lib/python3.10/dist-packages (from requests->cvlib) (2022.12.7)\n",
            "Requirement already satisfied: charset-normalizer~=2.0.0 in /usr/local/lib/python3.10/dist-packages (from requests->cvlib) (2.0.12)\n",
            "Requirement already satisfied: idna<4,>=2.5 in /usr/local/lib/python3.10/dist-packages (from requests->cvlib) (3.4)\n",
            "Building wheels for collected packages: cvlib, progressbar\n",
            "  Building wheel for cvlib (setup.py) ... \u001b[?25l\u001b[?25hdone\n",
            "  Created wheel for cvlib: filename=cvlib-0.2.7-py3-none-any.whl size=10046368 sha256=c70bb43c78c9ea253711263caa0a3c0d2670d1b4493d6a3bee6b1b985778795a\n",
            "  Stored in directory: /root/.cache/pip/wheels/9e/a5/d4/fe37b48fe4f4b621ba5e574a991230070f3cc4f02322a01489\n",
            "  Building wheel for progressbar (setup.py) ... \u001b[?25l\u001b[?25hdone\n",
            "  Created wheel for progressbar: filename=progressbar-2.5-py3-none-any.whl size=12067 sha256=e9e5536b83ded44f9d973ed1c9911bfa729d6ce3944728f8390909a98b33bb4e\n",
            "  Stored in directory: /root/.cache/pip/wheels/cd/17/e5/765d1a3112ff3978f70223502f6047e06c43a24d7c5f8ff95b\n",
            "Successfully built cvlib progressbar\n",
            "Installing collected packages: progressbar, cvlib\n",
            "Successfully installed cvlib-0.2.7 progressbar-2.5\n"
          ]
        }
      ]
    },
    {
      "cell_type": "markdown",
      "source": [
        "## Displaying the image"
      ],
      "metadata": {
        "id": "1kBIV8O45Cuq"
      }
    },
    {
      "cell_type": "code",
      "source": [
        "img = cv2.imread('image_path')\n",
        "plt.imshow(cv2.cvtColor(img, cv2.COLOR_BGR2RGB))\n",
        "plt.xticks([]), plt.yticks([])  # to hide tick values on X and Y axis\n",
        "plt.show()"
      ],
      "metadata": {
        "id": "s8mJIuGl5Fbg"
      },
      "execution_count": null,
      "outputs": []
    },
    {
      "cell_type": "markdown",
      "source": [
        "## Function to count objects"
      ],
      "metadata": {
        "id": "FhH_2y8C5SPc"
      }
    },
    {
      "cell_type": "code",
      "source": [
        "def count_object(img):\n",
        "  box, labels, count = cvl.detect_common_objects(img, confidence=0.5, nms_thresh=0.5, model='yolov4', enable_gpu=False)\n",
        "  output = draw_bbox(img, box, labels, count)\n",
        "  print(r'Number of objects :', len(labels))\n",
        "  print('Labels of the object : ', labels)\n",
        "  plt.imshow(cv2.cvtColor(output, cv2.COLOR_BGR2RGB))\n",
        "  plt.xticks([]), plt.yticks([])  # to hide tick values on X and Y axis\n",
        "  plt.show()"
      ],
      "metadata": {
        "id": "K5QOxSEz5WkV"
      },
      "execution_count": null,
      "outputs": []
    },
    {
      "cell_type": "markdown",
      "source": [
        "## Output Result"
      ],
      "metadata": {
        "id": "VuXjnKY05csG"
      }
    },
    {
      "cell_type": "code",
      "source": [
        "count_object(img)"
      ],
      "metadata": {
        "id": "qEUaX_1W5fn2"
      },
      "execution_count": null,
      "outputs": []
    },
    {
      "cell_type": "markdown",
      "source": [
        "# Area Calculation of Object(s)"
      ],
      "metadata": {
        "id": "I67Rzxha5k9l"
      }
    },
    {
      "cell_type": "markdown",
      "source": [
        "## Function to Calculate Area"
      ],
      "metadata": {
        "id": "wVQMFlZJ5w5y"
      }
    },
    {
      "cell_type": "code",
      "source": [
        "def measure_object_area(image_path):\n",
        "    # Load the image\n",
        "    image = cv2.imread(image_path)\n",
        "\n",
        "    # Convert the image to grayscale\n",
        "    gray = cv2.cvtColor(image, cv2.COLOR_BGR2GRAY)\n",
        "\n",
        "    # Applying inverse binary thresholding to obtain a inversed binary image using otsu thresholding method\n",
        "    _, binary = cv2.threshold(gray, 0, 255, cv2.THRESH_BINARY_INV | cv2.THRESH_OTSU)\n",
        "\n",
        "    # Find contours in the binary image\n",
        "    contours, hierarchies = cv2.findContours(binary, cv2.RETR_EXTERNAL, cv2.CHAIN_APPROX_SIMPLE)\n",
        "\n",
        "    total_area = 0\n",
        "    # Iterating through the whole area\n",
        "    for contour in contours:\n",
        "        # Calculate the area of each contour\n",
        "        area = cv2.contourArea(contour)\n",
        "        total_area += area\n",
        "\n",
        "    # Print the measured area\n",
        "    print(\"Object area:\", total_area)\n",
        "    plt.imshow(binary, cmap = 'gray')"
      ],
      "metadata": {
        "id": "feYbDqYk57xE"
      },
      "execution_count": null,
      "outputs": []
    },
    {
      "cell_type": "markdown",
      "source": [
        "## Providing the image path"
      ],
      "metadata": {
        "id": "0ZemmJBp6IRG"
      }
    },
    {
      "cell_type": "code",
      "source": [
        "# Providing the path of the image\n",
        "image_path = \"image_path\"\n",
        "plt.imshow(cv2.cvtColor(cv2.imread(image_path), cv2.COLOR_BGR2RGB))"
      ],
      "metadata": {
        "id": "AypL40vu6N_Z"
      },
      "execution_count": null,
      "outputs": []
    },
    {
      "cell_type": "markdown",
      "source": [
        "## Output Result"
      ],
      "metadata": {
        "id": "ukjSqpWX6CQz"
      }
    },
    {
      "cell_type": "code",
      "source": [
        "# calling the function to measure the area of the object in the image\n",
        "measure_object_area(image_path)"
      ],
      "metadata": {
        "id": "goUYOtSy6EXK"
      },
      "execution_count": null,
      "outputs": []
    },
    {
      "cell_type": "code",
      "source": [],
      "metadata": {
        "id": "NFjpkw7g-pGi"
      },
      "execution_count": null,
      "outputs": []
    }
  ]
}
